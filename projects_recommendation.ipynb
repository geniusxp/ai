{
 "cells": [
  {
   "cell_type": "markdown",
   "metadata": {
    "id": "fhwINxn196gP"
   },
   "source": [
    "# 🎫 GeniusXP\n",
    "\n",
    "## 💡 Explicação do projeto\n",
    "Uma plataforma centralizada para gestão de eventos que simplifica operações como inscrições, pagamentos e check-in, enquanto aumenta o engajamento com enquetes e networking. A inteligência artificial da GeniusXP utiliza as preferências dos usuários para oferecer uma experiência altamente personalizada e otimizar o planejamento. Com análise de sentimento e assistência virtual, a plataforma proporciona interações mais significativas, elevando a eficiência da gestão e tornando os eventos mais impactantes para cada participante.\n",
    "\n",
    "## 📖 Metodologia utilizada\n",
    "A aplicação Bluetrip utiliza técnicas avançadas de inteligência artificial para personalizar a experiência do usuário e automatizar processos, integrando o framework TensorFlow com a biblioteca FastAPI para criar uma API robusta e eficiente. A seguir, descrevemos a metodologia empregada para desenvolver este componente da aplicação.\n",
    "\n",
    "## 👥 Equipe\n",
    "Este projeto está sendo desenvolvido pelos seguintes membros:\n",
    "\n",
    "- RM99565 - Erick Nathan Capito Pereira (2TDSPV)\n",
    "- RM99577 - Guilherme Dias Gomes (2TDSPX)\n",
    "- RM550889 - Hemily Nara da Silva (2TDSPX)\n",
    "- RM550841 - Lucas Araujo Oliveira Silva (2TDSPV)\n",
    "- RM99409 - Michael José Bernardi Da Silva (2TDSPX)\n",
    "\n",
    "\n",
    "## 🎲 Datasets utilizados\n",
    "\n",
    "- [geniusxp-database-next-projects.xlsx](app/model/geniusxp-database-next-projects.xlsx)"
   ]
  },
  {
   "cell_type": "markdown",
   "metadata": {
    "id": "fWxizDOY96gR"
   },
   "source": [
    "## Configuração do Ambiente e Importações"
   ]
  },
  {
   "cell_type": "code",
   "execution_count": null,
   "metadata": {
    "colab": {
     "base_uri": "https://localhost:8080/"
    },
    "id": "Je3sJl7F96gS",
    "outputId": "87913ac4-1fb4-420f-d22c-627bf4fc1df0"
   },
   "outputs": [
    {
     "name": "stdout",
     "output_type": "stream",
     "text": [
      "Collecting FastAPI\n",
      "  Downloading fastapi-0.115.4-py3-none-any.whl.metadata (27 kB)\n",
      "Collecting uvicorn\n",
      "  Downloading uvicorn-0.32.0-py3-none-any.whl.metadata (6.6 kB)\n",
      "Requirement already satisfied: pandas in /usr/local/lib/python3.10/dist-packages (2.2.2)\n",
      "Collecting pandas\n",
      "  Downloading pandas-2.2.3-cp310-cp310-manylinux_2_17_x86_64.manylinux2014_x86_64.whl.metadata (89 kB)\n",
      "\u001b[2K     \u001b[90m━━━━━━━━━━━━━━━━━━━━━━━━━━━━━━━━━━━━━━━━\u001b[0m \u001b[32m89.9/89.9 kB\u001b[0m \u001b[31m3.6 MB/s\u001b[0m eta \u001b[36m0:00:00\u001b[0m\n",
      "\u001b[?25hRequirement already satisfied: pydantic in /usr/local/lib/python3.10/dist-packages (2.9.2)\n",
      "Collecting starlette<0.42.0,>=0.40.0 (from FastAPI)\n",
      "  Downloading starlette-0.41.2-py3-none-any.whl.metadata (6.0 kB)\n",
      "Requirement already satisfied: typing-extensions>=4.8.0 in /usr/local/lib/python3.10/dist-packages (from FastAPI) (4.12.2)\n",
      "Requirement already satisfied: click>=7.0 in /usr/local/lib/python3.10/dist-packages (from uvicorn) (8.1.7)\n",
      "Collecting h11>=0.8 (from uvicorn)\n",
      "  Downloading h11-0.14.0-py3-none-any.whl.metadata (8.2 kB)\n",
      "Requirement already satisfied: numpy>=1.22.4 in /usr/local/lib/python3.10/dist-packages (from pandas) (1.26.4)\n",
      "Requirement already satisfied: python-dateutil>=2.8.2 in /usr/local/lib/python3.10/dist-packages (from pandas) (2.8.2)\n",
      "Requirement already satisfied: pytz>=2020.1 in /usr/local/lib/python3.10/dist-packages (from pandas) (2024.2)\n",
      "Requirement already satisfied: tzdata>=2022.7 in /usr/local/lib/python3.10/dist-packages (from pandas) (2024.2)\n",
      "Requirement already satisfied: annotated-types>=0.6.0 in /usr/local/lib/python3.10/dist-packages (from pydantic) (0.7.0)\n",
      "Requirement already satisfied: pydantic-core==2.23.4 in /usr/local/lib/python3.10/dist-packages (from pydantic) (2.23.4)\n",
      "Requirement already satisfied: six>=1.5 in /usr/local/lib/python3.10/dist-packages (from python-dateutil>=2.8.2->pandas) (1.16.0)\n",
      "Requirement already satisfied: anyio<5,>=3.4.0 in /usr/local/lib/python3.10/dist-packages (from starlette<0.42.0,>=0.40.0->FastAPI) (3.7.1)\n",
      "Requirement already satisfied: idna>=2.8 in /usr/local/lib/python3.10/dist-packages (from anyio<5,>=3.4.0->starlette<0.42.0,>=0.40.0->FastAPI) (3.10)\n",
      "Requirement already satisfied: sniffio>=1.1 in /usr/local/lib/python3.10/dist-packages (from anyio<5,>=3.4.0->starlette<0.42.0,>=0.40.0->FastAPI) (1.3.1)\n",
      "Requirement already satisfied: exceptiongroup in /usr/local/lib/python3.10/dist-packages (from anyio<5,>=3.4.0->starlette<0.42.0,>=0.40.0->FastAPI) (1.2.2)\n",
      "Downloading fastapi-0.115.4-py3-none-any.whl (94 kB)\n",
      "\u001b[2K   \u001b[90m━━━━━━━━━━━━━━━━━━━━━━━━━━━━━━━━━━━━━━━━\u001b[0m \u001b[32m94.7/94.7 kB\u001b[0m \u001b[31m1.9 MB/s\u001b[0m eta \u001b[36m0:00:00\u001b[0m\n",
      "\u001b[?25hDownloading uvicorn-0.32.0-py3-none-any.whl (63 kB)\n",
      "\u001b[2K   \u001b[90m━━━━━━━━━━━━━━━━━━━━━━━━━━━━━━━━━━━━━━━━\u001b[0m \u001b[32m63.7/63.7 kB\u001b[0m \u001b[31m2.4 MB/s\u001b[0m eta \u001b[36m0:00:00\u001b[0m\n",
      "\u001b[?25hDownloading pandas-2.2.3-cp310-cp310-manylinux_2_17_x86_64.manylinux2014_x86_64.whl (13.1 MB)\n",
      "\u001b[2K   \u001b[90m━━━━━━━━━━━━━━━━━━━━━━━━━━━━━━━━━━━━━━━━\u001b[0m \u001b[32m13.1/13.1 MB\u001b[0m \u001b[31m18.8 MB/s\u001b[0m eta \u001b[36m0:00:00\u001b[0m\n",
      "\u001b[?25hDownloading h11-0.14.0-py3-none-any.whl (58 kB)\n",
      "\u001b[2K   \u001b[90m━━━━━━━━━━━━━━━━━━━━━━━━━━━━━━━━━━━━━━━━\u001b[0m \u001b[32m58.3/58.3 kB\u001b[0m \u001b[31m3.2 MB/s\u001b[0m eta \u001b[36m0:00:00\u001b[0m\n",
      "\u001b[?25hDownloading starlette-0.41.2-py3-none-any.whl (73 kB)\n",
      "\u001b[2K   \u001b[90m━━━━━━━━━━━━━━━━━━━━━━━━━━━━━━━━━━━━━━━━\u001b[0m \u001b[32m73.3/73.3 kB\u001b[0m \u001b[31m3.9 MB/s\u001b[0m eta \u001b[36m0:00:00\u001b[0m\n",
      "\u001b[?25hInstalling collected packages: h11, uvicorn, starlette, pandas, FastAPI\n",
      "  Attempting uninstall: pandas\n",
      "    Found existing installation: pandas 2.2.2\n",
      "    Uninstalling pandas-2.2.2:\n",
      "      Successfully uninstalled pandas-2.2.2\n",
      "\u001b[31mERROR: pip's dependency resolver does not currently take into account all the packages that are installed. This behaviour is the source of the following dependency conflicts.\n",
      "cudf-cu12 24.10.1 requires pandas<2.2.3dev0,>=2.0, but you have pandas 2.2.3 which is incompatible.\n",
      "google-colab 1.0.0 requires pandas==2.2.2, but you have pandas 2.2.3 which is incompatible.\u001b[0m\u001b[31m\n",
      "\u001b[0mSuccessfully installed FastAPI-0.115.4 h11-0.14.0 pandas-2.2.3 starlette-0.41.2 uvicorn-0.32.0\n"
     ]
    }
   ],
   "source": [
    "%pip install -U FastAPI uvicorn pandas pydantic"
   ]
  },
  {
   "cell_type": "code",
   "execution_count": 2,
   "metadata": {
    "id": "AThgtoDa96gS"
   },
   "outputs": [],
   "source": [
    "import pandas as pd\n",
    "from sklearn.feature_extraction.text import CountVectorizer\n",
    "from sklearn.metrics.pairwise import cosine_similarity\n",
    "\n",
    "from fastapi import FastAPI\n",
    "from fastapi.middleware.cors import CORSMiddleware\n",
    "import uvicorn\n",
    "\n",
    "from pydantic import BaseModel"
   ]
  },
  {
   "cell_type": "markdown",
   "metadata": {
    "id": "8Rbhprk-stYk"
   },
   "source": [
    "## Pré-processamento dos dados"
   ]
  },
  {
   "cell_type": "code",
   "execution_count": 4,
   "metadata": {
    "colab": {
     "base_uri": "https://localhost:8080/"
    },
    "id": "Og9AArMjq4Jd",
    "outputId": "685c040c-117a-4bd0-e36b-d7def64714ea"
   },
   "outputs": [
    {
     "name": "stdout",
     "output_type": "stream",
     "text": [
      "                                      nome  \\\n",
      "0  Target - Planejamento de Marketing BAUC   \n",
      "1                              Axion Nexus   \n",
      "2                                  HelpCar   \n",
      "3                                    Nodes   \n",
      "4                                 Robô EVA   \n",
      "\n",
      "                                           descricao  \\\n",
      "0  Nós da Target estamos ajudando a agência BAUC ...   \n",
      "1  Axion Nexus é um jogo 3D de puzzle em primeira...   \n",
      "2  A HelpCar é uma plataforma inovadora que utili...   \n",
      "3  Fizemos um aplicativo focado em melhorar a for...   \n",
      "4  A robocup é uma competição anual feita pelas t...   \n",
      "\n",
      "                                   curso                                 tipo  \\\n",
      "0       Marketing Digital e Data Science                            Challenge   \n",
      "1                         Jogos Digitais                            Challenge   \n",
      "2  Análise e Desenvolvimento de Sistemas                            Challenge   \n",
      "3                    Produção Multimídia                            Challenge   \n",
      "4                 Sistemas de Informação  Competições (ex: Robocup, CTF, etc)   \n",
      "\n",
      "               segmentos                  url          local    horario  \n",
      "0         entretenimento                  NaN             12  14h - 16h  \n",
      "1   entretenimento;jogos                  NaN             23  14h - 16h  \n",
      "2             transporte                  NaN              1  14h - 16h  \n",
      "3               comercio  www.appnodes.com.br             12  16h - 18h  \n",
      "4  entretenimento;ia-iot                  NaN  Arena Robocup  14h - 16h  \n"
     ]
    }
   ],
   "source": [
    "# Carregar os dados do Excel\n",
    "recommendations_df = pd.read_excel('geniusxp-database-next-projects.xlsx')\n",
    "\n",
    "# Exibir os primeiros registros para ver o formato dos dados\n",
    "print(recommendations_df.head())"
   ]
  },
  {
   "cell_type": "markdown",
   "metadata": {
    "id": "3_AzmNDfsxJS"
   },
   "source": [
    "## Passo 2: Transformar os segmentos em uma matriz de características"
   ]
  },
  {
   "cell_type": "code",
   "execution_count": 5,
   "metadata": {
    "colab": {
     "base_uri": "https://localhost:8080/"
    },
    "id": "z4PvNvmEq6K9",
    "outputId": "e10570cf-0e04-4eb5-fd80-d4e3c48c1e3f"
   },
   "outputs": [
    {
     "name": "stdout",
     "output_type": "stream",
     "text": [
      "['agronegocio' 'alimentacao' 'banking' 'comercio' 'comunicacao' 'educacao'\n",
      " 'entretenimento' 'governanca' 'ia-iot' 'jogos' 'moda' 'saude' 'seguranca'\n",
      " 'sustentabilidade' 'transporte' 'turismo']\n"
     ]
    },
    {
     "name": "stderr",
     "output_type": "stream",
     "text": [
      "/usr/local/lib/python3.10/dist-packages/sklearn/feature_extraction/text.py:521: UserWarning: The parameter 'token_pattern' will not be used since 'tokenizer' is not None'\n",
      "  warnings.warn(\n"
     ]
    }
   ],
   "source": [
    "# Criar um vetorizador que conte a frequência dos segmentos\n",
    "vectorizer = CountVectorizer(tokenizer=lambda x: x.split(';'))\n",
    "segment_matrix = vectorizer.fit_transform(recommendations_df['segmentos'])\n",
    "\n",
    "# Exibir os segmentos únicos\n",
    "print(vectorizer.get_feature_names_out())"
   ]
  },
  {
   "cell_type": "markdown",
   "metadata": {
    "id": "9cmgWDHus1Tj"
   },
   "source": [
    "## Passo 3: Calcular a similaridade entre os interesses do usuário e os projetos"
   ]
  },
  {
   "cell_type": "code",
   "execution_count": 6,
   "metadata": {
    "colab": {
     "base_uri": "https://localhost:8080/"
    },
    "id": "QhTaISA9q7R9",
    "outputId": "45e1eb40-e168-4617-b390-afc04a7f03dd"
   },
   "outputs": [
    {
     "name": "stdout",
     "output_type": "stream",
     "text": [
      "         nome                                          descricao  \\\n",
      "8     Spot.It  Um jogo onde o seu objetivo é tirar selfies co...   \n",
      "31     RPS-IA  O projeto utiliza visão computacional e inteli...   \n",
      "4    Robô EVA  A robocup é uma competição anual feita pelas t...   \n",
      "43  TechPeach  O TechPeach utiliza inteligência artificial e ...   \n",
      "\n",
      "                                    curso  \\\n",
      "8   Análise e Desenvolvimento de Sistemas   \n",
      "31                Inteligência Artificial   \n",
      "4                  Sistemas de Informação   \n",
      "43  Análise e Desenvolvimento de Sistemas   \n",
      "\n",
      "                                   tipo              segmentos  \\\n",
      "8                  Iniciação Científica  entretenimento;ia-iot   \n",
      "31                 Iniciação Científica  entretenimento;ia-iot   \n",
      "4   Competições (ex: Robocup, CTF, etc)  entretenimento;ia-iot   \n",
      "43                            Challenge  entretenimento;ia-iot   \n",
      "\n",
      "                               url                              local  \\\n",
      "8   https://ic-spot-it.vercel.app/  Área da Iniciação Científica (27)   \n",
      "31                             NaN       Área da Iniciação Científica   \n",
      "4                              NaN                      Arena Robocup   \n",
      "43                             NaN                                  3   \n",
      "\n",
      "      horario  \n",
      "8   14h - 18h  \n",
      "31  14h - 18h  \n",
      "4   14h - 16h  \n",
      "43  14h - 16h  \n"
     ]
    }
   ],
   "source": [
    "def recommend_projects(interests):\n",
    "    # Transformar os interesses do usuário em um vetor\n",
    "    user_interests_vec = vectorizer.transform([interests])\n",
    "\n",
    "    # Calcular a similaridade de cosseno entre os interesses do usuário e os projetos\n",
    "    similarity = cosine_similarity(user_interests_vec, segment_matrix)\n",
    "\n",
    "    # Ordenar os projetos por similaridade\n",
    "    recommended_projects_indexes = similarity.argsort()[0][::-1]\n",
    "\n",
    "    # Retornar os projetos mais semelhantes\n",
    "    return recommendations_df.iloc[recommended_projects_indexes]\n",
    "\n",
    "# Exemplos de interesses do usuário\n",
    "interesses_usuario = \"ia-iot;entretenimento\"\n",
    "\n",
    "# Recomendar projetos\n",
    "projetos_recomendados = recommend_projects(interesses_usuario)\n",
    "\n",
    "# Exibir os projetos recomendados\n",
    "print(projetos_recomendados[['nome', 'descricao', 'curso', 'tipo', 'segmentos', 'url', 'local', 'horario']][1:5])\n"
   ]
  },
  {
   "cell_type": "markdown",
   "metadata": {
    "id": "gLZ2iim996gW"
   },
   "source": [
    "## Instanciando o FastAPI\n",
    "Instanciação do FastAPI e configuração do middleware CORS para permitir comunicações com o front-end."
   ]
  },
  {
   "cell_type": "code",
   "execution_count": 7,
   "metadata": {
    "id": "uJ_md5aV96gW"
   },
   "outputs": [],
   "source": [
    "app = FastAPI()\n",
    "\n",
    "app.add_middleware(\n",
    "    CORSMiddleware,\n",
    "    allow_origins=[\"*\"],\n",
    "    allow_credentials=True,\n",
    "    allow_methods=[\"*\"],\n",
    "    allow_headers=[\"*\"],\n",
    ")"
   ]
  },
  {
   "cell_type": "markdown",
   "metadata": {
    "id": "n6TaDgrZ96gW"
   },
   "source": [
    "## Criação das rotas para conexão com o front-end"
   ]
  },
  {
   "cell_type": "markdown",
   "metadata": {
    "id": "1yAic1a696gW"
   },
   "source": [
    "### Rota de status para verificar se a aplicação está sendo executada\n",
    "#### [GET] /status"
   ]
  },
  {
   "cell_type": "code",
   "execution_count": 8,
   "metadata": {
    "id": "ClpNzJOv96gX"
   },
   "outputs": [],
   "source": [
    "@app.get(\"/status\")\n",
    "async def app_status():\n",
    "    return 'ok'"
   ]
  },
  {
   "cell_type": "markdown",
   "metadata": {
    "id": "ZDTH6fCK96gX"
   },
   "source": [
    "### Rota para obtenção de recomendações de acordo com os interesses do usuário\n",
    "#### [GET] /projects-recommendation - interests: str"
   ]
  },
  {
   "cell_type": "code",
   "execution_count": 10,
   "metadata": {
    "id": "reYESvLo96gX"
   },
   "outputs": [],
   "source": [
    "class Project(BaseModel):\n",
    "    nome: str\n",
    "    descricao: str\n",
    "    curso: str\n",
    "    tipo: str\n",
    "    segmentos: str\n",
    "    local: int | str\n",
    "    horario: str\n",
    "\n",
    "@app.get(\"/projects-recommendation\")\n",
    "async def get_recommendation(interests: str):\n",
    "    projects = recommend_projects(interests).head(5)\n",
    "\n",
    "    project_list = [Project(\n",
    "        nome=row[\"nome\"],\n",
    "        descricao=row[\"descricao\"],\n",
    "        curso=row[\"curso\"],\n",
    "        tipo=row[\"tipo\"],\n",
    "        segmentos=row[\"segmentos\"],\n",
    "        local=row[\"local\"],\n",
    "        horario=row[\"horario\"]\n",
    "    ) for idx, row in projects.iterrows()]\n",
    "\n",
    "    return project_list"
   ]
  },
  {
   "cell_type": "markdown",
   "metadata": {
    "id": "W1Ltc7hK96gX"
   },
   "source": [
    "## Execução do servidor HTTP do FastAPI utilizando Uvicorn"
   ]
  },
  {
   "cell_type": "code",
   "execution_count": null,
   "metadata": {
    "id": "IEucIq1i96gY"
   },
   "outputs": [],
   "source": [
    "if __name__ == \"__main__\":\n",
    "    uvicorn.run(\"app:app\", host=\"127.0.0.1\", port=8000)"
   ]
  }
 ],
 "metadata": {
  "colab": {
   "provenance": []
  },
  "kernelspec": {
   "display_name": "Python 3",
   "name": "python3"
  },
  "language_info": {
   "name": "python"
  }
 },
 "nbformat": 4,
 "nbformat_minor": 0
}
